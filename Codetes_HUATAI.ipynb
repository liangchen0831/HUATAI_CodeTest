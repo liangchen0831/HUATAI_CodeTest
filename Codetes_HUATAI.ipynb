{
 "cells": [
  {
   "cell_type": "code",
   "execution_count": 1,
   "id": "f1e933bf-f8b6-4e8e-8689-7ab2cb9fe899",
   "metadata": {},
   "outputs": [],
   "source": [
    "import numpy as np"
   ]
  },
  {
   "cell_type": "markdown",
   "id": "c80f6863-f6c6-45a0-8b3d-5d52316116a4",
   "metadata": {},
   "source": [
    "### Detect number in Matrix"
   ]
  },
  {
   "cell_type": "markdown",
   "id": "bce5dab5-6631-4647-8fb2-c1f31ac7201d",
   "metadata": {},
   "source": [
    "#### Idea is to start the seaching on the most right column from the top to bottom:\n",
    "#### --> any element less than tartget implies the whole raw is less than target\n",
    "#### --> For the first element that is larger than the target, we switch to seaching the raw the same argument applies"
   ]
  },
  {
   "cell_type": "code",
   "execution_count": 2,
   "id": "34eea755-0154-48b8-a21d-8ccc18cf9a71",
   "metadata": {},
   "outputs": [],
   "source": [
    "a = np.matrix('1 2 8 9; 2 4 9 12; 4 7 10 13; 6 8 11 15')"
   ]
  },
  {
   "cell_type": "code",
   "execution_count": 39,
   "id": "7f332c35-ce25-49ee-86ae-8fa5e784574a",
   "metadata": {},
   "outputs": [],
   "source": [
    "def detectNum( mat, target ):\n",
    "    ''' detect if target is in mat '''\n",
    "    if mat is None:\n",
    "        return False\n",
    "    \n",
    "    M = mat.shape[0]-1    \n",
    "    if ( M < 0 ) or ( mat[M, M] < target ) or ( mat[0, 0] > target ):        \n",
    "        return False\n",
    "    \n",
    "    s = 1  # 1:seaching in col, -1 seaching in row\n",
    "    i = 0\n",
    "    j = mat.shape[1]-1  # start searching from the top right corner    \n",
    "    \n",
    "    while ( mat[i, j] != target ):                \n",
    "        if s > 0:\n",
    "            if mat[i, j] < target:            \n",
    "                if i < M:\n",
    "                    i += 1\n",
    "                else:\n",
    "                    return False\n",
    "            elif mat[i, 0] > target:\n",
    "                return False\n",
    "            else:\n",
    "                s = s*-1\n",
    "        else:\n",
    "            if mat[i, j] > target:\n",
    "                if j > 0:\n",
    "                    j -= 1\n",
    "                else :\n",
    "                    return False\n",
    "            elif mat[M, j] < target:\n",
    "                return False\n",
    "            else:\n",
    "                s = s*-1                \n",
    "         \n",
    "    if mat[i, j] == target:        \n",
    "        return True\n",
    "    else:\n",
    "        return False"
   ]
  },
  {
   "cell_type": "code",
   "execution_count": 40,
   "id": "31c8882a-f54c-4f20-9b30-54ad16d43ded",
   "metadata": {},
   "outputs": [
    {
     "data": {
      "text/plain": [
       "True"
      ]
     },
     "execution_count": 40,
     "metadata": {},
     "output_type": "execute_result"
    }
   ],
   "source": [
    "detectNum( a, 15 )"
   ]
  },
  {
   "cell_type": "markdown",
   "id": "a86f684c-0f33-42b8-9b84-e3e9b62edd86",
   "metadata": {},
   "source": [
    "### Animate"
   ]
  },
  {
   "cell_type": "markdown",
   "id": "19a46a26-e604-4deb-8fd2-c23f2ab7dbe4",
   "metadata": {},
   "source": [
    "#### The idea is to \n",
    "#### 1) break the inital positions into each particle (breakToPtc)\n",
    "#### 2) get step by step animation of each partical (animEach)\n",
    "#### 3) merge all positions to get the final animation"
   ]
  },
  {
   "cell_type": "code",
   "execution_count": 29,
   "id": "d386eb47-a9f0-4029-80fb-034c18344d8c",
   "metadata": {},
   "outputs": [],
   "source": [
    "def animRight( anim, spd, loc ):\n",
    "    ''' get animation of a particle moving toward right '''\n",
    "    out = []    \n",
    "    while loc <= ( len( anim )-1 ):\n",
    "        out.append( anim )\n",
    "        anim = list( anim )\n",
    "        dest = loc + spd\n",
    "        if dest > ( len( anim ) - 1 ):\n",
    "            anim = '.'*len(anim)\n",
    "            out.append( anim )\n",
    "        else:\n",
    "            anim[loc], anim[dest] = anim[dest], anim[loc]\n",
    "            anim = \"\".join(anim)\n",
    "        loc = dest\n",
    "    return out"
   ]
  },
  {
   "cell_type": "code",
   "execution_count": 30,
   "id": "9fc82d1f-bae4-4502-856b-9bdf6e92ab33",
   "metadata": {},
   "outputs": [],
   "source": [
    "def animLeft( anim, spd, loc ):\n",
    "    ''' get animation of a particle moving toward left '''\n",
    "    out = []    \n",
    "    while loc >= 0:\n",
    "        out.append( anim )\n",
    "        anim = list( anim )\n",
    "        dest = loc - spd\n",
    "        if dest < 0:\n",
    "            anim = '.'*len(anim)\n",
    "            out.append( anim )\n",
    "        else:\n",
    "            anim[loc], anim[dest] = anim[dest], anim[loc]\n",
    "            anim = \"\".join(anim)\n",
    "        loc = dest\n",
    "    return out"
   ]
  },
  {
   "cell_type": "code",
   "execution_count": 31,
   "id": "8fbca8e3-1b8f-4ea6-bcb5-5a1360a996ac",
   "metadata": {},
   "outputs": [],
   "source": [
    "def animEach( init, spd):\n",
    "    ''' get animation of each particle'''\n",
    "    #direc = init.find( 'R' )\n",
    "    if init.find( 'R' ) >= 0:\n",
    "        return animRight( init, spd, init.find( 'R') )\n",
    "    else:\n",
    "        return animLeft( init, spd, init.find( 'L') )"
   ]
  },
  {
   "cell_type": "code",
   "execution_count": 32,
   "id": "a6bdf533-5e86-4027-9b2d-df129a5b7ba2",
   "metadata": {},
   "outputs": [],
   "source": [
    "def breakToPtc( inits ):\n",
    "    ''' break the initial positions into position of each partical '''\n",
    "    out = []\n",
    "    for i in range( len( inits ) ):\n",
    "        if inits[i] != '.':\n",
    "            pos = ['.'] * len( inits )\n",
    "            pos[i] = inits[i]\n",
    "            out.append(  \"\".join(pos) )\n",
    "    \n",
    "    return out"
   ]
  },
  {
   "cell_type": "code",
   "execution_count": 33,
   "id": "0bb21fc4-2def-423a-a670-fd5dbc0a56b6",
   "metadata": {},
   "outputs": [],
   "source": [
    "def mergeAnim( allpos ):\n",
    "    ''' get amimation of all particles at each step '''\n",
    "    out = ['.'] * len( allpos[0] )\n",
    "    for i in range( len( out ) ):\n",
    "        if any( [ pos[i] != '.' for pos in allpos ] ):\n",
    "            out[i] = 'X'\n",
    "    return \"\".join(out)"
   ]
  },
  {
   "cell_type": "code",
   "execution_count": 34,
   "id": "cd3f38aa-ec39-498a-898b-96e1db6c02f7",
   "metadata": {},
   "outputs": [],
   "source": [
    "def Animate( speed, init_pos  ):\n",
    "    ''' get animation of particles '''\n",
    "    # check if any particle\n",
    "    if len( init_pos.replace( '.', '' ) ) == 0:\n",
    "        return list( [ init_pos] )\n",
    "    \n",
    "    # get the step by step location of each particle\n",
    "    raw_res =  [ animEach( eachP, speed ) for eachP in breakToPtc( init_pos ) ]\n",
    "    num_steps = np.max( [ len( i ) for i in raw_res ] )\n",
    "    \n",
    "    # merge movement of all particles to get the final animation\n",
    "    merge_res = []\n",
    "    for j in range( num_steps ):\n",
    "        merge_res.append( mergeAnim( [ eachP[j] for eachP in raw_res if len( eachP ) > j ] ) )\n",
    "    return merge_res"
   ]
  },
  {
   "cell_type": "code",
   "execution_count": 36,
   "id": "f7eadbc3-ddab-4c37-be50-a6e70fe74eae",
   "metadata": {},
   "outputs": [
    {
     "data": {
      "text/plain": [
       "['XXXX.XX.XXX.X.XXXX.',\n",
       " '..XXX..X..XX.X..XX.',\n",
       " '.X.XX.X.X..XX.XX.XX',\n",
       " 'X.X.XX...X.XXXXX..X',\n",
       " '.X..XXX...X..XX.X..',\n",
       " 'X..X..XX.X.XX.XX.X.',\n",
       " '..X....XX..XX..XX.X',\n",
       " '.X.....XXXX..X..XX.',\n",
       " 'X.....X..XX...X..XX',\n",
       " '.....X..X.XX...X..X',\n",
       " '....X..X...XX...X..',\n",
       " '...X..X.....XX...X.',\n",
       " '..X..X.......XX...X',\n",
       " '.X..X.........XX...',\n",
       " 'X..X...........XX..',\n",
       " '..X.............XX.',\n",
       " '.X...............XX',\n",
       " 'X.................X',\n",
       " '...................']"
      ]
     },
     "execution_count": 36,
     "metadata": {},
     "output_type": "execute_result"
    }
   ],
   "source": [
    "Animate( 1, \"LRRL.LR.LRR.R.LRRL.\" )"
   ]
  },
  {
   "cell_type": "code",
   "execution_count": null,
   "id": "7bea8caf-c691-4ebe-b0c3-b14264e563e1",
   "metadata": {},
   "outputs": [],
   "source": []
  }
 ],
 "metadata": {
  "kernelspec": {
   "display_name": "Python 3 (ipykernel)",
   "language": "python",
   "name": "python3"
  },
  "language_info": {
   "codemirror_mode": {
    "name": "ipython",
    "version": 3
   },
   "file_extension": ".py",
   "mimetype": "text/x-python",
   "name": "python",
   "nbconvert_exporter": "python",
   "pygments_lexer": "ipython3",
   "version": "3.9.6"
  }
 },
 "nbformat": 4,
 "nbformat_minor": 5
}
